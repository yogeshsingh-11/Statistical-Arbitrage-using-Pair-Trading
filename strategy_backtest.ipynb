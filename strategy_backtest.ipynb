import pandas as pd
import matplotlib.pyplot as plt
from src.data_loader import load_asset_data, preprocess_data
from src.pair_trading import backtest_pair_trading
from src.cointegration import test_cointegration

# Load and preprocess data
asset_data = load_asset_data('../data/asset_data.csv')
asset_data = preprocess_data(asset_data)

# Test cointegration between two assets (asset1 and asset2)
asset1 = asset_data['Asset1']
asset2 = asset_data['Asset2']
if test_cointegration(asset1, asset2):
    print("Assets are cointegrated, proceeding with pair trading strategy.")
    results = backtest_pair_trading(asset1, asset2)
    
    # Plot results
    results[['z_score', 'strategy_returns']].plot(subplots=True)
    plt.show()
else:
    print("Assets are not cointegrated, pair trading strategy not applicable.")
